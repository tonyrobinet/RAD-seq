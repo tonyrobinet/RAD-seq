{
 "cells": [
  {
   "cell_type": "markdown",
   "metadata": {},
   "source": [
    "# Workflow d'analyse des reads RAD-seq\n",
    "\n",
    "Kernels: bash / R\n",
    "\n",
    "## supression des duplicatas de PCR (pair-end)\n",
    "\n",
    "avec *clone_filter* de *Stacks* :\n",
    "(remplacer les chemins des fichiers)"
   ]
  },
  {
   "cell_type": "markdown",
   "metadata": {},
   "source": [
    "**tests effectués avec stacks-2.0Beta7c**"
   ]
  },
  {
   "cell_type": "code",
   "execution_count": null,
   "metadata": {
    "collapsed": true
   },
   "outputs": [],
   "source": [
    "# kernel: bash\n",
    "clone_filter -P /media/tony/DATA2/PPOL/par_pool/ -i fastq \\\n",
    "    -1 PL1_Pool1_1_PoolADN1_1.fq -2 PL1_Pool1_1_PoolADN1_2.fq \\\n",
    "    -o /media/tony/DATA2/PPOL/par_pool/clone_filtered/ -y fastq"
   ]
  },
  {
   "cell_type": "markdown",
   "metadata": {},
   "source": [
    "**resultats clone_filter sur reads1 + reads2 de PPOL:**\n",
    "Pool 1: 40.91% clone reads. \n",
    "Pool 2: 42.41% clone reads. \n",
    "Pool 3: 41.53% clone reads. \n",
    "Pool 4: 41.84% clone reads. \n",
    "Pool 5: 42.13% clone reads. \n",
    "Pool 6: 41.16% clone reads."
   ]
  },
  {
   "cell_type": "markdown",
   "metadata": {},
   "source": [
    "On utilise à partir d'ici les fichiers fastq nettoyés des duplicatas de PCR."
   ]
  },
  {
   "cell_type": "markdown",
   "metadata": {},
   "source": [
    "# STACKS\n",
    "\n",
    "La création d'une base de donnée sql est facultative. Elle peut être source de problèmes qui peuvent être contournés en créant une sortie VCF à l'étape populations.\n",
    "\n",
    "On peut faire tourner le pipeline **denovo_map.pl** avec des paramètres spécifiques à chaque module en écrivant le flag -X \"ustacks: -m 50\".\n",
    "\n",
    "La solution pas-à-pas est aussi possible, avec l'enchainement suivant : **ustacks -> cstacks -> sstacks -> tsv2bam  -> gstacks -> populations**\n",
    "(gstacks n'est que dans stacks2.0)\n",
    "\n",
    "## paramétrage du M de ustacks\n",
    "\n",
    "Il faut tester plusieurs valeurs de M de 1 à 15 sur le Pool 1 pour paramétrer **ustacks**. Pour cela on lance le script suivant (**--max_locus_stacks** est fixé à 15). Il faut utiliser le modèle \"fixed\" dans **ustacks** pour correctement détecter les SNPs dans le cas d'un Pool-seq, avec une limite haute de 0.05."
   ]
  },
  {
   "cell_type": "code",
   "execution_count": null,
   "metadata": {
    "collapsed": true
   },
   "outputs": [],
   "source": [
    "# kernel: bash\n",
    "PROOT=\"./\"\n",
    "while read line\n",
    "do\n",
    "echo \"*** Process parameter value -M $line ***\"\n",
    "ustacks -t fastq -f ./PL1_Pool1_1_PoolADN1_1.fq -i 1 \\\n",
    "    --model_type 'bounded' --bound_high 0.05 \\\n",
    "    --max_locus_stacks 15 -o ./ustacks/ -m 3 -M $line -p 32\n",
    "done < ${PROOT}/M_values.txt"
   ]
  },
  {
   "cell_type": "markdown",
   "metadata": {},
   "source": [
    "avec un fichier M_values.txt qui contient juste les valeurs de M : 1 2 3 4 5 10 15 (retour à la ligne entre chaque valeur), on abouti à un nombre max de SNPs détectés pour M=3."
   ]
  },
  {
   "cell_type": "markdown",
   "metadata": {},
   "source": [
    "## stacks pas-à-pas"
   ]
  },
  {
   "cell_type": "code",
   "execution_count": null,
   "metadata": {
    "collapsed": true
   },
   "outputs": [],
   "source": [
    "# kernel: bash\n",
    "ustacks -t fastq \\\n",
    "    -i 11 -p 32 -m 50 -M 3 \\\n",
    "    --model_type 'bounded' --bound_high 0.05 --max_locus_stacks 15 \\\n",
    "    -o /media/tony/DATA2/PPOL_DATA2/bio_info_PPOL/stacks/denovo_map_filtered_bounded/ustacks_m50_M3 \\\n",
    "    -f /media/tony/DATA2/PPOL_DATA2/PPOL_fastq_par_pool/clone_filtered/reads1/PL1_Pool1_1_PoolADN1_1_1.fq\n",
    "ustacks -t fastq \\\n",
    "    -i 12 -p 32 -m 50 -M 3 \\\n",
    "    --model_type 'bounded' --bound_high 0.05 --max_locus_stacks 15 \\\n",
    "    -o /media/tony/DATA2/PPOL_DATA2/bio_info_PPOL/stacks/denovo_map_filtered_bounded/ustacks_m50_M3 \\\n",
    "    -f /media/tony/DATA2/PPOL_DATA2/PPOL_fastq_par_pool/clone_filtered/reads1/PL1_Pool1_2_PoolADN2_1_1.fq\n",
    "ustacks -t fastq \\\n",
    "    -i 13 -p 32 -m 50 -M 3 \\\n",
    "    --model_type 'bounded' --bound_high 0.05 --max_locus_stacks 15 \\\n",
    "    -o /media/tony/DATA2/PPOL_DATA2/bio_info_PPOL/stacks/denovo_map_filtered_bounded/ustacks_m50_M3 \\\n",
    "    -f /media/tony/DATA2/PPOL_DATA2/PPOL_fastq_par_pool/clone_filtered/reads1/PL1_Pool1_3_PoolADN3_1_1.fq\n",
    "ustacks -t fastq \\\n",
    "    -i 14 -p 32 -m 50 -M 3 \\\n",
    "    --model_type 'bounded' --bound_high 0.05 --max_locus_stacks 15 \\\n",
    "    -o /media/tony/DATA2/PPOL_DATA2/bio_info_PPOL/stacks/denovo_map_filtered_bounded/ustacks_m50_M3 \\\n",
    "    -f /media/tony/DATA2/PPOL_DATA2/PPOL_fastq_par_pool/clone_filtered/reads1/PL1_Pool1_4_PoolADN4_1_1.fq\n",
    "ustacks -t fastq \\\n",
    "    -i 15 -p 32 -m 50 -M 3 \\\n",
    "    --model_type 'bounded' --bound_high 0.05 --max_locus_stacks 15 \\\n",
    "    -o /media/tony/DATA2/PPOL_DATA2/bio_info_PPOL/stacks/denovo_map_filtered_bounded/ustacks_m50_M3 \\\n",
    "    -f /media/tony/DATA2/PPOL_DATA2/PPOL_fastq_par_pool/clone_filtered/reads1/PL1_Pool1_5_PoolADN5_1_1.fq\n",
    "ustacks -t fastq \\\n",
    "    -i 16 -p 32 -m 50 -M 3 \\\n",
    "    --model_type 'bounded' --bound_high 0.05 --max_locus_stacks 15 \\\n",
    "    -o /media/tony/DATA2/PPOL_DATA2/bio_info_PPOL/stacks/denovo_map_filtered_bounded/ustacks_m50_M3 \\\n",
    "    -f /media/tony/DATA2/PPOL_DATA2/PPOL_fastq_par_pool/clone_filtered/reads1/PL1_Pool1_6_PoolADN6_1_1.fq"
   ]
  },
  {
   "cell_type": "code",
   "execution_count": null,
   "metadata": {
    "collapsed": true
   },
   "outputs": [],
   "source": [
    "# kernel: bash\n",
    "cstacks -n 3 -p 32 -b 8 \\\n",
    "    -P /media/tony/DATA2/PPOL_DATA2/bio_info_PPOL/stacks/denovo_map_filtered_bounded/ustacks_m50_M3/ \\\n",
    "    -M /media/tony/DATA2/PPOL_DATA2/bio_info_PPOL/stacks/denovo_map_filtered_bounded/population_map_local.txt"
   ]
  },
  {
   "cell_type": "markdown",
   "metadata": {},
   "source": [
    "*Ustacks* crée les fichiers PL1_Pool1_1_PoolADN1_1_1.alleles.tsv, + models.tsv + snps.tsv + tags.tsv pour chaque pool ;\n",
    "*Cstacks* crée les fichiers batch_4.catalog alleles + snps + tags ;\n",
    "*Sstacks* crée les fichiers PL1_Pool1_1_PoolADN1_1_1.matches.tsv pour chaque pool."
   ]
  },
  {
   "cell_type": "code",
   "execution_count": null,
   "metadata": {
    "collapsed": true
   },
   "outputs": [],
   "source": [
    "# kernel: bash\n",
    "sstacks -b 8 -p 32 -P /media/tony/DATA2/PPOL_DATA2/bio_info_PPOL/stacks/denovo_map_filtered_bounded/ustacks_m50_M3 \\\n",
    "    -M /media/tony/DATA2/PPOL_DATA2/bio_info_PPOL/stacks/denovo_map_filtered_bounded/population_map_local.txt"
   ]
  },
  {
   "cell_type": "markdown",
   "metadata": {},
   "source": [
    "apres le denovomap avec un modèle \"fixed SNP\" adapté au Pool-seq, il faut faire tourner populations en local, avec STACKS2.0, qui comporte le nouvel outil *gstacks*;\n",
    "d'abord on convertit les output du denovomap en bam avec *tsv2bam*;\n",
    "puis *gstacks* cherche les SNPs dans les .bam;\n",
    "enfin *populations* établit les VCF avec le nombre de reads par allèle, qui, rapporté au nombre de reads du locus, permet de calculer la fréquence allélique de chaque allèle."
   ]
  },
  {
   "cell_type": "code",
   "execution_count": null,
   "metadata": {
    "collapsed": true
   },
   "outputs": [],
   "source": [
    "# kernel: bash\n",
    "cd /media/tony/DATA2/PPOL_DATA2/bio_info_PPOL/stacks/denovo_map_filtered_bounded/ustacks_m50_M3/\n",
    "tsv2bam -P ./ -M ./population_map_local.txt -b 8 -t 32"
   ]
  },
  {
   "cell_type": "markdown",
   "metadata": {},
   "source": [
    "**populations** le paramètre -p 6 signifie que les clusters doivent être communs aux 6 pools (pas de N)."
   ]
  },
  {
   "cell_type": "code",
   "execution_count": null,
   "metadata": {
    "collapsed": true
   },
   "outputs": [],
   "source": [
    "# kernel: bash\n",
    "gstacks -P ./ --model snp -t 32 -b 8\n",
    "populations -P ./ -O ./populations_p6/ \\\n",
    "    -M ./population_map_local.txt -p 6 \\\n",
    "    --vcf --vcf_haplotypes --min_maf 0"
   ]
  },
  {
   "cell_type": "markdown",
   "metadata": {},
   "source": [
    "## pipeline denovo_map"
   ]
  },
  {
   "cell_type": "markdown",
   "metadata": {},
   "source": [
    "**PPOL**"
   ]
  },
  {
   "cell_type": "code",
   "execution_count": 3,
   "metadata": {
    "collapsed": true
   },
   "outputs": [
    {
     "name": "stdout",
     "output_type": "stream",
     "text": [
      "You must specify a batch ID and it must be an integer (e.g. 1, 2, 3).\n",
      "denovo_map.pl 2.0Beta1\n",
      "denovo_map.pl --samples dir --popmap path -o dir (assembly options) -b batch_id (database options) [-X prog:\"opts\" ...]\n",
      "denovo_map.pl -s path [-s path ...] -o dir (assembly options) -b batch_id (database options) [-X prog:\"opts\" ...]\n",
      "denovo_map.pl -p path -r path -o path -A type (assembly options) -b batch_id (database options) [-X prog:\"opts\" ...]\n",
      "\n",
      "  Input files:\n",
      "    --samples: path to the directory containing the samples reads files.\n",
      "    --popmap: path to a population map file (format is \"<name> TAB <pop>\", one sample per line).\n",
      "  or\n",
      "    s: path to a file containing the reads of one sample.\n",
      "  or\n",
      "    p: path to a file containing the reads of one parent, in a mapping cross.\n",
      "    r: path to a file containing the reads of one progeny, in a mapping cross.\n",
      "\n",
      "  General options:\n",
      "    o: path to an output directory.\n",
      "    b: a numeric database ID for this run (e.g. 1).\n",
      "    A: for a mapping cross, specify the type; one of 'CP', 'F2', 'BC1', 'DH', or 'GEN'.\n",
      "    X: additional options for specific pipeline components, e.g. -X \"populations: -p 3 -r 0.50\".\n",
      "    T: the number of threads/CPUs to use (default: 1).\n",
      "    d: Dry run. Do not actually execute anything, just print the commands that would be executed.\n",
      "\n",
      "  Stack assembly options:\n",
      "    M: number of mismatches allowed between stacks within individuals (for ustacks).\n",
      "    n: number of mismatches allowed between stacks between individuals (for cstacks).\n",
      "    --gapped: perform gapped comparisons (for ustacks, cstacks, sstacks; default: off).\n",
      "\n",
      "  SNP model options:\n",
      "    --alpha: significance level at which to call genotypes (for ustacks; default: 0.05).\n",
      "    For the bounded model:\n",
      "      --bound_low <num>: lower bound for epsilon, the error rate, between 0 and 1.0 (default 0.0).\n",
      "      --bound_high <num>: upper bound for epsilon, the error rate, between 0 and 1.0 (default 1.0).\n",
      "\n",
      "  Paired-end options:\n",
      "    --paired-ends: after assembling RAD loci, assemble mini-contigs with paired-end reads.\n",
      "\n",
      "  Database options:\n",
      "    S: disable database interaction.\n",
      "    B: specify an SQL database to load data into.\n",
      "    D: a description of this batch to be stored in the database.\n",
      "    i: starting sample_id, this is determined automatically if database interaction is enabled.\n",
      "    --create_db: create the database specified by '-B' and populate the tables.\n",
      "    --overw_db: delete the database before creating a new copy of it (turns on --create_db).\n",
      "\n"
     ]
    },
    {
     "ename": "",
     "evalue": "1",
     "output_type": "error",
     "traceback": []
    }
   ],
   "source": [
    "# kernel: bash\n",
    "cd ~/sync/genetique_poissons/RAD-seq_PPOL/\n",
    "denovo_map.pl -S -b 8 -T 32 -m 50 -M 3 -n 3 \\\n",
    "    --samples ./PPOL_DATA2/PPOL_fastq_clone_filtered/reads1/ \\\n",
    "    --popmap ./PPOL_DATA2/PPOL_fastq_clone_filtered/reads1/population_map_PPOL.txt \\\n",
    "    -o /media/tony/DATA2/PPOL_DATA2/bio_info_PPOL/stacks/denovo_map_filtered_bounded/ustacks_m50_M3/ \\\n",
    "    -X \"ustacks: --max_locus_stacks 15 --model_type 'bounded' --bound_high 0.05\" \\\n",
    "    -X \"/usr/bin/bin/tsv2bam: -b 8 -t 32 -P ./PPOL_DATA2/bio_info_PPOL/stacks/denovo_map_filtered_bounded/ustacks_m50_M3 -M ./PPOL_DATA2/PPOL_fastq_clone_filtered/reads1/population_map_PPOL.txt\" \\\n",
    "    -X \"populations: -p 6 --vcf --vcf_haplotypes --min_maf 0 \\\n",
    "        -O /media/tony/DATA2/PPOL/bio_info_PPOL/stacks/denovo_map_filtered_bounded/ustacks_m50_M3/populations_p6\""
   ]
  },
  {
   "cell_type": "markdown",
   "metadata": {},
   "source": [
    "**MSUR**"
   ]
  },
  {
   "cell_type": "code",
   "execution_count": null,
   "metadata": {
    "collapsed": true
   },
   "outputs": [],
   "source": [
    "# kernel: bash\n",
    "cd ~/sync/genetique_poissons/RAD-seq_MSUR/\n",
    "denovo_map.pl -T 32 -m 50 -M 3 -n 3 \\\n",
    "    --samples ./MSUR_DATA2/MSUR_fastq_clone_filtered/reads1/ \\\n",
    "    --popmap ./MSUR_DATA2/MSUR_fastq_clone_filtered/reads1/population_map_MSUR.txt \\\n",
    "    -o /media/tony/DATA2/MSUR_DATA2/bio_info_MSUR/stacks/denovo_map_filtered_bounded/ustacks_m50_M3/ \\\n",
    "    -X \"ustacks: --max_locus_stacks 15 --model_type 'bounded' --bound_high 0.05\" \\\n",
    "    -X \"populations: -p 7 --vcf --vcf_haplotypes --min_maf 0 \\\n",
    "        -O /media/tony/DATA2/MSUR_DATA2/bio_info_MSUR/stacks/denovo_map_filtered_bounded/ustacks_m50_M3/populations_p7\""
   ]
  },
  {
   "cell_type": "markdown",
   "metadata": {},
   "source": [
    "# DiscoSnp-Rad\n",
    "\n",
    "Tous les paramètres de DiscoSnp-Rad sont automatiques, sauf :\n",
    "-P polymorphisme maximal autorisé par bulle: -P 3, 15\n",
    "-c minimum coverage per read set (auto: défini par kissnp2): -c auto, 50\n",
    "La valeur automatique de c est plutôt vers 200-300.\n",
    "    Essais sur plusieurs configurations: -P 3 -c auto\n",
    "                                        -P 15 -c auto\n",
    "                                        -P 3 -c 50\n",
    "                                        -P 15 -c 50"
   ]
  },
  {
   "cell_type": "markdown",
   "metadata": {},
   "source": [
    "**PPOL**"
   ]
  },
  {
   "cell_type": "code",
   "execution_count": null,
   "metadata": {
    "collapsed": true
   },
   "outputs": [],
   "source": [
    "# kernel: bash\n",
    "cd ~/DiscoSnp/\n",
    "sudo ./run_discoSnpRad.sh -r fof_reads1_PPOL.txt -P 3 -p \"PPOL_disco_P3_c-auto\" -T -c auto -u 32 -S ./rconnector\n",
    "# sudo ./run_discoSnpRad.sh -r fof_reads1.txt -P 15 -p \"PPOL_disco_P15_c-auto\" -T -c auto -u 32 -S ./rconnector\n",
    "# sudo ./run_discoSnpRad.sh -r fof_reads1.txt -P 3 -p \"PPOL_disco_P3_c-50\" -T -c 50 -u 32 -S ./rconnector\n",
    "# sudo ./run_discoSnpRad.sh -r fof_reads1.txt -P 15 -p \"PPOL_disco_P15_c-auto\" -T -c 50 -u 32 -S ./rconnector"
   ]
  },
  {
   "cell_type": "markdown",
   "metadata": {},
   "source": [
    "**MSUR**"
   ]
  },
  {
   "cell_type": "code",
   "execution_count": null,
   "metadata": {
    "collapsed": true
   },
   "outputs": [],
   "source": [
    "# kernel: bash\n",
    "cd ~/DiscoSnp/\n",
    "sudo ./run_discoSnpRad.sh -r fof_reads1_MSUR.txt -P 3 -p \"MSUR_disco_P3_c-auto\" -T -c auto -u 32 -S ./rconnector\n",
    "# sudo ./run_discoSnpRad.sh -r fof_reads1.txt -P 15 -p \"PPOL_disco_P15_c-auto\" -T -c auto -u 32 -S ./rconnector\n",
    "# sudo ./run_discoSnpRad.sh -r fof_reads1.txt -P 3 -p \"PPOL_disco_P3_c-50\" -T -c 50 -u 32 -S ./rconnector\n",
    "# sudo ./run_discoSnpRad.sh -r fof_reads1.txt -P 15 -p \"PPOL_disco_P15_c-auto\" -T -c 50 -u 32 -S ./rconnector"
   ]
  },
  {
   "cell_type": "markdown",
   "metadata": {},
   "source": [
    "## **Visualisation des profondeurs de clusters **"
   ]
  },
  {
   "cell_type": "markdown",
   "metadata": {},
   "source": [
    "d'abord ouvrir les sorties vcf de **population** pour effacer les headers, puis les enregistrer en csv\n",
    "\n",
    "**PPOL**"
   ]
  },
  {
   "cell_type": "code",
   "execution_count": null,
   "metadata": {
    "collapsed": true,
    "slideshow": {
     "slide_type": "slide"
    }
   },
   "outputs": [],
   "source": [
    "# kernel: R\n",
    "library(ggplot2)\n",
    "library(gridExtra)\n",
    "library(adegenet)\n",
    "library(pegas)\n",
    "library(poppr)\n",
    "library(vegan)\n",
    "library(dplyr)\n",
    "library(stringr)\n",
    "\n",
    "AD_STACKS_m3 <- \"~/sync/genetique_poissons/RAD-seq_PPOL/bio-info/stacks/sorties_denovomap/PPOL_denovo_m3_M3_n3_p6.csv\" %>% read.csv() %>% as_tibble()\n",
    "AD_STACKS_m50 <- \"~/sync/genetique_poissons/RAD-seq_PPOL/bio-info/stacks/sorties_denovomap/PPOL_denovo_m50_M3_n3_p6.csv\" %>% read.csv() %>% as_tibble()\n",
    "AD_STACKS_m200 <- \"~/sync/genetique_poissons/RAD-seq_PPOL/bio-info/stacks/sorties_denovomap/PPOL_denovo_m200_M3_n3_p6.csv\" %>% read.csv() %>% as_tibble()\n",
    "AD_Disco_P3_cauto_SNPs <- \"~/sync/genetique_poissons/RAD-seq_PPOL/bio-info/discoSNPRAD/sorties_discoSnpRad/PPOL_disco_P3_c-auto_k_31.csv\" %>% read.csv() %>% as_tibble() %>% filter(str_detect(ID, \"SNP\"))\n",
    "AD_Disco_P3_c50_SNPs <- \"~/sync/genetique_poissons/RAD-seq_PPOL/bio-info/discoSNPRAD/sorties_discoSnpRad/PPOL_disco_P3_c50_k_31.csv\" %>% read.csv() %>% as_tibble() %>% filter(str_detect(ID, \"SNP\"))\n",
    "AD_Disco_P15_cauto_SNPs <- \"~/sync/genetique_poissons/RAD-seq_PPOL/bio-info/discoSNPRAD/sorties_discoSnpRad/PPOL_disco_P15_c-auto_k_31.csv\" %>% read.csv() %>% as_tibble() %>% filter(str_detect(ID, \"SNP\"))\n",
    "AD_Disco_P15_c50_SNPs <- \"~/sync/genetique_poissons/RAD-seq_PPOL/bio-info/discoSNPRAD/sorties_discoSnpRad/PPOL_disco_P15_c50_k_31.csv\" %>% read.csv() %>% as_tibble() %>% filter(str_detect(ID, \"SNP\"))\n",
    "\n",
    "length(AD_STACKS_m3$ID) # [1] 38828 SNPs\n",
    "length(AD_STACKS_m50$ID) # [1] 7204 SNPs\n",
    "length(AD_STACKS_m200$ID) # [1] 4354 SNPs\n",
    "length(AD_Disco_P3_cauto_SNPs$ID) # [1] 21134 SNPs (INDELs supprimés)\n",
    "length(AD_Disco_P3_c50_SNPs$ID) # [1] 25034 SNPs\n",
    "length(AD_Disco_P15_cauto_SNPs$ID) # [1] 24141 SNPs\n",
    "length(AD_Disco_P15_c50_SNPs$ID) # [1] 28215 SNPs\n",
    "\n",
    "\n",
    "a <- ggplot(AD_STACKS_m3) + geom_bar(aes(G1, group = cut_width(G1, 100))) + theme_classic() + \n",
    "  scale_x_continuous(limits = c(0, 1500)) + expand_limits(y=400) +\n",
    "  labs(x=\"cluster coverage\", y=\"count\", title=\"Stacks denovo map (Pool 1) m3 M3 n3, 38828 SNPs\") + \n",
    "  theme(plot.title = element_text(size=8))\n",
    "b <- ggplot(AD_STACKS_m50) + geom_bar(aes(G1, group = cut_width(G1, 50))) + theme_classic() + \n",
    "  scale_x_continuous(limits = c(0, 1500)) + scale_y_continuous(limits = c(0, 75)) +\n",
    "  labs(x=\"cluster coverage\", y=\"count\", title=\"Stacks denovo map (Pool 1) m50 M3 n3, 7204 SNPs\")+ \n",
    "  theme(plot.title = element_text(size=8))\n",
    "c <- ggplot(AD_STACKS_m200) + geom_bar(aes(G1, group = cut_width(G1, 50))) + theme_classic() + \n",
    "  scale_x_continuous(limits = c(0, 1500)) + scale_y_continuous(limits = c(0, 75)) +\n",
    "  labs(x=\"cluster coverage\", y=\"count\", title=\"Stacks denovo map (Pool 1) m200 M3 n3, 4354 SNPs\")+ \n",
    "  theme(plot.title = element_text(size=8))\n",
    "d <- ggplot(AD_Disco_P3_cauto_SNPs) + geom_bar(aes(G1, group = cut_width(G1, 100))) + theme_classic() +\n",
    "  scale_x_continuous(limits = c(0, 2000)) + scale_y_continuous(limits = c(0, 75)) +\n",
    "  labs(x=\"cluster coverage\", y=\"count\", title=\"DiscoSnpRAD (Pool 1, SNPs) -P 3 -c auto, 21134 SNPs\")+ \n",
    "  theme(plot.title = element_text(size=8))\n",
    "e <- ggplot(AD_Disco_P3_c50_SNPs) + geom_bar(aes(G1, group = cut_width(G1, 100))) + theme_classic() +\n",
    "  scale_x_continuous(limits = c(0, 2000)) + scale_y_continuous(limits = c(0, 75)) +\n",
    "  labs(x=\"cluster coverage\", y=\"count\", title=\"DiscoSnpRAD (Pool 1, SNPs) -P 3 -c 50, 25034 SNPs\")+ \n",
    "  theme(plot.title = element_text(size=8))\n",
    "f <- ggplot(AD_Disco_P15_cauto_SNPs) + geom_bar(aes(G1, group = cut_width(G1, 100))) + theme_classic() +\n",
    "  scale_x_continuous(limits = c(0, 2000)) + scale_y_continuous(limits = c(0, 75)) +\n",
    "  labs(x=\"cluster coverage\", y=\"count\", title=\"DiscoSnpRAD (Pool 1, SNPs) -P 15 -c auto, 24141 SNPs\")+ \n",
    "  theme(plot.title = element_text(size=8))\n",
    "g <- ggplot(AD_Disco_P15_c50_SNPs) + geom_bar(aes(G1, group = cut_width(G1, 100))) + theme_classic() +\n",
    "  scale_x_continuous(limits = c(0, 2000)) + scale_y_continuous(limits = c(0, 75)) +\n",
    "  labs(x=\"cluster coverage\", y=\"count\", title=\"DiscoSnpRAD (Pool 1, SNPs) -P 15 -c 50, 28215 SNPs\")+ \n",
    "  theme(plot.title = element_text(size=8))\n",
    "\n",
    "grid.arrange(d,a, e, b, f, c, g, ncol=2, nrow=4)\n",
    "\n",
    "\n"
   ]
  },
  {
   "cell_type": "markdown",
   "metadata": {},
   "source": [
    "**MSUR**"
   ]
  },
  {
   "cell_type": "code",
   "execution_count": null,
   "metadata": {
    "collapsed": true
   },
   "outputs": [],
   "source": [
    "# kernel: R\n",
    "library(ggplot2)\n",
    "library(gridExtra)\n",
    "library(adegenet)\n",
    "library(pegas)\n",
    "library(poppr)\n",
    "library(vegan)\n",
    "library(dplyr)\n",
    "library(stringr)\n",
    "\n",
    "\n",
    "AD_STACKS_m50 <- \"~/sync/genetique_poissons/RAD-seq_PPOL/bio-info/stacks/sorties_denovomap/PPOL_denovo_m50_M3_n3_p6.csv\" %>% read.csv() %>% as_tibble()\n",
    "AD_Disco_P3_cauto_SNPs <- \"~/sync/genetique_poissons/RAD-seq_PPOL/bio-info/discoSNPRAD/sorties_discoSnpRad/PPOL_disco_P3_c-auto_k_31.csv\" %>% read.csv() %>% as_tibble() %>% filter(str_detect(ID, \"SNP\"))\n",
    "length(AD_STACKS_m50$ID) # [1] 7204 SNPs\n",
    "length(AD_Disco_P3_cauto_SNPs$ID) # [1] 21134 SNPs (INDELs supprimés)\n",
    "\n",
    "a <- ggplot(AD_STACKS_m3) + geom_bar(aes(G1, group = cut_width(G1, 100))) + theme_classic() + \n",
    "  scale_x_continuous(limits = c(0, 1500)) + expand_limits(y=400) +\n",
    "  labs(x=\"cluster coverage\", y=\"count\", title=\"Stacks denovo map (Pool 1) m3 M3 n3, 38828 SNPs\") + \n",
    "  theme(plot.title = element_text(size=8))\n",
    "b <- ggplot(AD_STACKS_m50) + geom_bar(aes(G1, group = cut_width(G1, 50))) + theme_classic() + \n",
    "  scale_x_continuous(limits = c(0, 1500)) + scale_y_continuous(limits = c(0, 75)) +\n",
    "  labs(x=\"cluster coverage\", y=\"count\", title=\"Stacks denovo map (Pool 1) m50 M3 n3, 7204 SNPs\")+ \n",
    "  theme(plot.title = element_text(size=8))\n",
    "c <- ggplot(AD_STACKS_m200) + geom_bar(aes(G1, group = cut_width(G1, 50))) + theme_classic() + \n",
    "  scale_x_continuous(limits = c(0, 1500)) + scale_y_continuous(limits = c(0, 75)) +\n",
    "  labs(x=\"cluster coverage\", y=\"count\", title=\"Stacks denovo map (Pool 1) m200 M3 n3, 4354 SNPs\")+ \n",
    "  theme(plot.title = element_text(size=8))\n",
    "d <- ggplot(AD_Disco_P3_cauto_SNPs) + geom_bar(aes(G1, group = cut_width(G1, 100))) + theme_classic() +\n",
    "  scale_x_continuous(limits = c(0, 2000)) + scale_y_continuous(limits = c(0, 75)) +\n",
    "  labs(x=\"cluster coverage\", y=\"count\", title=\"DiscoSnpRAD (Pool 1, SNPs) -P 3 -c auto, 21134 SNPs\")+ \n",
    "  theme(plot.title = element_text(size=8))\n",
    "e <- ggplot(AD_Disco_P3_c50_SNPs) + geom_bar(aes(G1, group = cut_width(G1, 100))) + theme_classic() +\n",
    "  scale_x_continuous(limits = c(0, 2000)) + scale_y_continuous(limits = c(0, 75)) +\n",
    "  labs(x=\"cluster coverage\", y=\"count\", title=\"DiscoSnpRAD (Pool 1, SNPs) -P 3 -c 50, 25034 SNPs\")+ \n",
    "  theme(plot.title = element_text(size=8))\n",
    "f <- ggplot(AD_Disco_P15_cauto_SNPs) + geom_bar(aes(G1, group = cut_width(G1, 100))) + theme_classic() +\n",
    "  scale_x_continuous(limits = c(0, 2000)) + scale_y_continuous(limits = c(0, 75)) +\n",
    "  labs(x=\"cluster coverage\", y=\"count\", title=\"DiscoSnpRAD (Pool 1, SNPs) -P 15 -c auto, 24141 SNPs\")+ \n",
    "  theme(plot.title = element_text(size=8))\n",
    "g <- ggplot(AD_Disco_P15_c50_SNPs) + geom_bar(aes(G1, group = cut_width(G1, 100))) + theme_classic() +\n",
    "  scale_x_continuous(limits = c(0, 2000)) + scale_y_continuous(limits = c(0, 75)) +\n",
    "  labs(x=\"cluster coverage\", y=\"count\", title=\"DiscoSnpRAD (Pool 1, SNPs) -P 15 -c 50, 28215 SNPs\")+ \n",
    "  theme(plot.title = element_text(size=8))\n",
    "\n",
    "grid.arrange(d,a, e, b, f, c, g, ncol=2, nrow=4)"
   ]
  },
  {
   "cell_type": "markdown",
   "metadata": {},
   "source": [
    "## Filtres qualité"
   ]
  },
  {
   "cell_type": "code",
   "execution_count": 1,
   "metadata": {},
   "outputs": [
    {
     "name": "stderr",
     "output_type": "stream",
     "text": [
      "\n",
      "Attaching package: ‘dplyr’\n",
      "\n",
      "The following objects are masked from ‘package:stats’:\n",
      "\n",
      "    filter, lag\n",
      "\n",
      "The following objects are masked from ‘package:base’:\n",
      "\n",
      "    intersect, setdiff, setequal, union\n",
      "\n"
     ]
    },
    {
     "data": {
      "text/html": [
       "'PPOL: nombre total de SNPs'"
      ],
      "text/latex": [
       "'PPOL: nombre total de SNPs'"
      ],
      "text/markdown": [
       "'PPOL: nombre total de SNPs'"
      ],
      "text/plain": [
       "[1] \"PPOL: nombre total de SNPs\""
      ]
     },
     "metadata": {},
     "output_type": "display_data"
    },
    {
     "data": {
      "text/html": [
       "<table>\n",
       "<thead><tr><th scope=col>n</th></tr></thead>\n",
       "<tbody>\n",
       "\t<tr><td>21060</td></tr>\n",
       "</tbody>\n",
       "</table>\n"
      ],
      "text/latex": [
       "\\begin{tabular}{r|l}\n",
       " n\\\\\n",
       "\\hline\n",
       "\t 21060\\\\\n",
       "\\end{tabular}\n"
      ],
      "text/markdown": [
       "\n",
       "n | \n",
       "|---|\n",
       "| 21060 | \n",
       "\n",
       "\n"
      ],
      "text/plain": [
       "  n    \n",
       "1 21060"
      ]
     },
     "metadata": {},
     "output_type": "display_data"
    },
    {
     "data": {
      "text/html": [
       "'MSUR: nombre total de SNPs'"
      ],
      "text/latex": [
       "'MSUR: nombre total de SNPs'"
      ],
      "text/markdown": [
       "'MSUR: nombre total de SNPs'"
      ],
      "text/plain": [
       "[1] \"MSUR: nombre total de SNPs\""
      ]
     },
     "metadata": {},
     "output_type": "display_data"
    },
    {
     "data": {
      "text/html": [
       "<table>\n",
       "<thead><tr><th scope=col>n</th></tr></thead>\n",
       "<tbody>\n",
       "\t<tr><td>58244</td></tr>\n",
       "</tbody>\n",
       "</table>\n"
      ],
      "text/latex": [
       "\\begin{tabular}{r|l}\n",
       " n\\\\\n",
       "\\hline\n",
       "\t 58244\\\\\n",
       "\\end{tabular}\n"
      ],
      "text/markdown": [
       "\n",
       "n | \n",
       "|---|\n",
       "| 58244 | \n",
       "\n",
       "\n"
      ],
      "text/plain": [
       "  n    \n",
       "1 58244"
      ]
     },
     "metadata": {},
     "output_type": "display_data"
    }
   ],
   "source": [
    "library(dplyr)\n",
    "library(tidyr)\n",
    "library(stringr)\n",
    "\n",
    "AD_Disco_PPOL_P3_cauto_SNPs <- \"~/sync/genetique_poissons/RAD-seq_PPOL/bio-info/discoSNPRAD/sorties_discoSnpRad/PPOL_disco_P3_c-auto_k_31.csv\" %>% read.csv() %>% as_tibble() %>% filter(str_detect(ID, \"SNP\"))\n",
    "AD_Disco_MSUR_P3_cauto_SNPs <- \"~/sync/genetique_poissons/RAD-seq_MSUR/bio-info/discoSNPRAD/raw_MSUR_disco_P3_c-auto_k_31_c_auto_D_100_P_3_b_1_coherent_sorted_with_clusters.csv\"  %>% read.csv() %>% as_tibble() %>% filter(str_detect(ID, \"SNP\"))\n",
    "\n",
    "c(\"Ecosse-Mer du Nord\",\"Mer celtique\",\"Mer d'Irlande_Pays de Galles\",\"Manche Ouest\",\"Gascogne France\",\"Gascogne Espagne\")-> PPOL_pool_names\n",
    "c(\"Ecosse_mer_du_Nord\",\"Sud Irlande\",\"Manche ouest\",\"Gascogne France\",\"Gascogne Espagne\",\"Portugal\")-> MSUR_pool_names\n",
    "\n",
    "##############\n",
    "### FILTRATION\n",
    "##############\n",
    "# PPOL\n",
    "# au moins un score phred > 30\n",
    "AD_Disco_PPOL_P3_cauto_SNPs_phr30 <- AD_Disco_PPOL_P3_cauto_SNPs %>% filter(.,max(ph1,ph2,ph3)>30,max(ph1.1,ph2.1,ph3.1)>30,max(ph1.2,ph2.2,ph3.2)>30,max(ph1.3,ph2.3,ph3.3)>30,max(ph1.4,ph2.4,ph3.4)>30,max(ph1.5,ph2.5,ph3.5)>30)\n",
    "# 50x min dans chaque pool (juste un contrôle, car déjà paramétrisé dans stacks et Disco)\n",
    "AD_Disco_PPOL_P3_cauto_SNPs_50x <- filter(AD_Disco_PPOL_P3_cauto_SNPs_phr30,G1>=50,G2>=50,G3>=50,G4>=50,G5>=50,G6>=50)\n",
    "# les loci sont polymorphiques dans tous les pools\n",
    "AD_Disco_PPOL_P3_cauto_SNPs_50x_polyALL <- filter(AD_Disco_PPOL_P3_cauto_SNPs_50x,G1_1>0,G1_2>0,G2_1>0,G2_2>0,G3_1>0,G3_2>0,G4_1>0,G4_2>0,G5_1>0,G5_2>0,G6_1>0,G6_2>0)\n",
    "# on calcule les FA\n",
    "AD_Disco_PPOL_P3_cauto_SNPs_50x_polyALL %>% transmute(.,X.CHROM=X.CHROM,G1_1p=G1_1/G1,G1_2p=G1_2/G1,G2_1p=G2_1/G2,G2_2p=G2_2/G2,G3_1p=G3_1/G3,\n",
    "                                                      G3_2p=G3_2/G3,G4_1p=G4_1/G4,G4_2p=G4_2/G4,G5_1p=G5_1/G5,G5_2p=G5_2/G5,\n",
    "                                                      G6_1p=G6_1/G6,G6_2p=G6_2/G6) -> PPOL_FA\n",
    "# MSUR\n",
    "AD_Disco_MSUR_P3_cauto_SNPs_phr30 <- AD_Disco_MSUR_P3_cauto_SNPs %>% filter(.,max(ph1,ph2,ph3)>30,max(ph1.1,ph2.1,ph3.1)>30,max(ph1.2,ph2.2,ph3.2)>30,max(ph1.3,ph2.3,ph3.3)>30,max(ph1.4,ph2.4,ph3.4)>30,max(ph1.5,ph2.5,ph3.5)>30)\n",
    "AD_Disco_MSUR_P3_cauto_SNPs <- select(AD_Disco_MSUR_P3_cauto_SNPs_phr30,X.CHROM, POS, G1,G1_1,G1_2,G2,G2_1,G2_2,G3,G3_1,G3_2,G4,G4_1,G4_2,G5,G5_1,G5_2,G6,G6_1,G6_2)\n",
    "AD_Disco_MSUR_P3_cauto_SNPs_50x <- filter(AD_Disco_MSUR_P3_cauto_SNPs,G1>=50,G2>=50,G3>=50,G4>=50,G5>=50,G6>=50)\n",
    "AD_Disco_MSUR_P3_cauto_SNPs_50x_polyALL <- filter(AD_Disco_MSUR_P3_cauto_SNPs_50x,G1_1>0,G1_2>0,G2_1>0,G2_2>0,G3_1>0,G3_2>0,G4_1>0,G4_2>0,G5_1>0,G5_2>0,G6_1>0,G6_2>0)\n",
    "AD_Disco_MSUR_P3_cauto_SNPs_50x_polyALL %>% transmute(.,X.CHROM=X.CHROM,G1_1p=G1_1/G1,G1_2p=G1_2/G1,G2_1p=G2_1/G2,G2_2p=G2_2/G2,G3_1p=G3_1/G3,\n",
    "                                                      G3_2p=G3_2/G3,G4_1p=G4_1/G4,G4_2p=G4_2/G4,G5_1p=G5_1/G5,G5_2p=G5_2/G5,\n",
    "                                                      G6_1p=G6_1/G6,G6_2p=G6_2/G6) -> MSUR_FA\n",
    "\n",
    "'PPOL: nombre total de SNPs'\n",
    "tally(PPOL_FA)\n",
    "'MSUR: nombre total de SNPs'\n",
    "tally(MSUR_FA)"
   ]
  },
  {
   "cell_type": "markdown",
   "metadata": {},
   "source": [
    "# Diversités nucléotidiques pi\n",
    "\n",
    "Seul stacks fournit un calcul de pi dans **populations.sumstats_summary.tsv** calculé par *populations*.\n",
    "Donc il faut d'abord récupérer les POS des SNPs après filtrage, puis les mettre dans une whitelist qui sera ensuite utilisée par *populations*."
   ]
  },
  {
   "cell_type": "code",
   "execution_count": 7,
   "metadata": {},
   "outputs": [
    {
     "data": {
      "text/html": [
       "<table>\n",
       "<thead><tr><th scope=col>n</th></tr></thead>\n",
       "<tbody>\n",
       "\t<tr><td>7056</td></tr>\n",
       "</tbody>\n",
       "</table>\n"
      ],
      "text/latex": [
       "\\begin{tabular}{r|l}\n",
       " n\\\\\n",
       "\\hline\n",
       "\t 7056\\\\\n",
       "\\end{tabular}\n"
      ],
      "text/markdown": [
       "\n",
       "n | \n",
       "|---|\n",
       "| 7056 | \n",
       "\n",
       "\n"
      ],
      "text/plain": [
       "  n   \n",
       "1 7056"
      ]
     },
     "metadata": {},
     "output_type": "display_data"
    },
    {
     "data": {
      "text/html": [
       "<table>\n",
       "<thead><tr><th scope=col>n</th></tr></thead>\n",
       "<tbody>\n",
       "\t<tr><td>9768</td></tr>\n",
       "</tbody>\n",
       "</table>\n"
      ],
      "text/latex": [
       "\\begin{tabular}{r|l}\n",
       " n\\\\\n",
       "\\hline\n",
       "\t 9768\\\\\n",
       "\\end{tabular}\n"
      ],
      "text/markdown": [
       "\n",
       "n | \n",
       "|---|\n",
       "| 9768 | \n",
       "\n",
       "\n"
      ],
      "text/plain": [
       "  n   \n",
       "1 9768"
      ]
     },
     "metadata": {},
     "output_type": "display_data"
    },
    {
     "data": {
      "text/html": [
       "<table>\n",
       "<thead><tr><th scope=col>n</th></tr></thead>\n",
       "<tbody>\n",
       "\t<tr><td>9768</td></tr>\n",
       "</tbody>\n",
       "</table>\n"
      ],
      "text/latex": [
       "\\begin{tabular}{r|l}\n",
       " n\\\\\n",
       "\\hline\n",
       "\t 9768\\\\\n",
       "\\end{tabular}\n"
      ],
      "text/markdown": [
       "\n",
       "n | \n",
       "|---|\n",
       "| 9768 | \n",
       "\n",
       "\n"
      ],
      "text/plain": [
       "  n   \n",
       "1 9768"
      ]
     },
     "metadata": {},
     "output_type": "display_data"
    },
    {
     "data": {
      "text/html": [
       "<table>\n",
       "<thead><tr><th scope=col>n</th></tr></thead>\n",
       "<tbody>\n",
       "\t<tr><td>139</td></tr>\n",
       "</tbody>\n",
       "</table>\n"
      ],
      "text/latex": [
       "\\begin{tabular}{r|l}\n",
       " n\\\\\n",
       "\\hline\n",
       "\t 139\\\\\n",
       "\\end{tabular}\n"
      ],
      "text/markdown": [
       "\n",
       "n | \n",
       "|---|\n",
       "| 139 | \n",
       "\n",
       "\n"
      ],
      "text/plain": [
       "  n  \n",
       "1 139"
      ]
     },
     "metadata": {},
     "output_type": "display_data"
    },
    {
     "data": {
      "text/html": [
       "<table>\n",
       "<thead><tr><th scope=col>n</th></tr></thead>\n",
       "<tbody>\n",
       "\t<tr><td>3431</td></tr>\n",
       "</tbody>\n",
       "</table>\n"
      ],
      "text/latex": [
       "\\begin{tabular}{r|l}\n",
       " n\\\\\n",
       "\\hline\n",
       "\t 3431\\\\\n",
       "\\end{tabular}\n"
      ],
      "text/markdown": [
       "\n",
       "n | \n",
       "|---|\n",
       "| 3431 | \n",
       "\n",
       "\n"
      ],
      "text/plain": [
       "  n   \n",
       "1 3431"
      ]
     },
     "metadata": {},
     "output_type": "display_data"
    }
   ],
   "source": [
    "# kernel: R\n",
    "library(dplyr)\n",
    "library(stringr)\n",
    "\n",
    "AD_STACKS_PPOL <- \"~/sync/genetique_poissons/RAD-seq_PPOL/bio-info/stacks/sorties_denovomap/PPOL_denovo_m50_M3_n3_p6.csv\" %>% read.csv() %>% as_tibble()\n",
    "AD_STACKS_MSUR <- \"~/sync/genetique_poissons/RAD-seq_MSUR/bio-info/stacks/MSUR_denovo_m50_M3_p7.csv\" %>% read.csv() %>% as_tibble()\n",
    "\n",
    "\n",
    "##############\n",
    "### FILTRATION\n",
    "##############\n",
    "# PPOL\n",
    "# 50x min dans chaque pool (juste un contrôle, car déjà paramétrisé dans stacks et Disco)\n",
    "AD_STACKS_PPOL_50x <- filter(AD_STACKS_PPOL,POS,G1>=50,G2>=50,G3>=50,G4>=50,G5>=50,G6>=50)\n",
    "# les loci sont polymorphiques dans tous les pools\n",
    "AD_STACKS_PPOL_50x_polyALL <- filter(AD_STACKS_PPOL_50x,POS,G1_1>0,G1_2>0,G2_1>0,G2_2>0,G3_1>0,G3_2>0,G4_1>0,G4_2>0,G5_1>0,G5_2>0,G6_1>0,G6_2>0) # 7140 SNPs\n",
    "AD_STACKS_PPOL_50x_polyALL %>% transmute(.,POS=POS,ID=ID,G1_1p=G1_1/G1,G1_2p=G1_2/G1,G2_1p=G2_1/G2,G2_2p=G2_2/G2,G3_1p=G3_1/G3,\n",
    "                                         G3_2p=G3_2/G3,G4_1p=G4_1/G4,G4_2p=G4_2/G4,G5_1p=G5_1/G5,G5_2p=G5_2/G5,\n",
    "                                         G6_1p=G6_1/G6,G6_2p=G6_2/G6) -> PPOL_STACKS_FA\n",
    "# min MAF = 0.1, max MAF = 0.9\n",
    "PPOL_STACKS_FA <- filter(PPOL_STACKS_FA,G1_1p>=0.1,G1_2p>=0.1,G2_1p>=0.1,G1_2p>=0.1,G3_1p>=0.1,G3_2p>=0.1,G4_1p>=0.1,G4_2p>=0.1,G5_1p>=0.1,G5_2p>=0.1,G6_1p>=0.1,G6_2p>=0.1)\n",
    "PPOL_STACKS_FA <- filter(PPOL_STACKS_FA,G1_1p<=0.9,G1_2p<=0.9,G2_1p<=0.9,G1_2p<=0.9,G3_1p<=0.9,G3_2p<=0.9,G4_1p<=0.9,G4_2p<=0.9,G5_1p<=0.9,G5_2p<=0.9,G6_1p<=0.9,G6_2p<=0.9)\n",
    "tally(PPOL_STACKS_FA) # 7056 SNPs\n",
    "\n",
    "# MSUR\n",
    "AD_STACKS_MSUR_50x <- filter(AD_STACKS_MSUR,POS,G1>=50,G2>=50,G3>=50,G4>=50,G5>=50,G6>=50,G7>=50)\n",
    "AD_STACKS_MSUR_50x_polyALL <- filter(AD_STACKS_MSUR_50x,POS,G1_1>0,G1_2>0,G2_1>0,G2_2>0,G3_1>0,G3_2>0,G4_1>0,G4_2>0,G5_1>0,G5_2>0,G6_1>0,G6_2>0)\n",
    "AD_STACKS_MSUR_50x_polyALL %>% transmute(.,POS=POS,POS,G1_1p=G1_1/G1,G1_2p=G1_2/G1,G2_1p=G2_1/G2,G2_2p=G2_2/G2,G3_1p=G3_1/G3,\n",
    "                                         G3_2p=G3_2/G3,G4_1p=G4_1/G4,G4_2p=G4_2/G4,G5_1p=G5_1/G5,G5_2p=G5_2/G5,\n",
    "                                         G6_1p=G6_1/G6,G6_2p=G6_2/G6,G7_1p=G7_1/G7,G7_2p=G7_2/G7) -> MSUR_ATLMED_STACKS_FA\n",
    "AD_STACKS_MSUR_50x_polyALL %>% transmute(.,POS=POS,G1_1p=G1_1/G1,G1_2p=G1_2/G1,G2_1p=G2_1/G2,G2_2p=G2_2/G2,G3_1p=G3_1/G3,\n",
    "                                         G3_2p=G3_2/G3,G4_1p=G4_1/G4,G4_2p=G4_2/G4,G5_1p=G5_1/G5,G5_2p=G5_2/G5,\n",
    "                                         G6_1p=G6_1/G6,G6_2p=G6_2/G6) -> MSUR_ATL_STACKS_FA\n",
    "# min MAF = 0.1, max MAF = 0.9\n",
    "MSUR_ATLMED_STACKS_FA <- filter(MSUR_ATLMED_STACKS_FA,G1_1p>=0.1,G1_2p>=0.1,G2_1p>=0.1,G1_2p>=0.1,G3_1p>=0.1,G3_2p>=0.1,G4_1p>=0.1,G4_2p>=0.1,G5_1p>=0.1,G5_2p>=0.1,G6_1p>=0.1,G6_2p>=0.1)\n",
    "MSUR_ATLMED_STACKS_FA <- filter(MSUR_ATLMED_STACKS_FA,G1_1p<=0.9,G1_2p<=0.9,G2_1p<=0.9,G1_2p<=0.9,G3_1p<=0.9,G3_2p<=0.9,G4_1p<=0.9,G4_2p<=0.9,G5_1p<=0.9,G5_2p<=0.9,G6_1p<=0.9,G6_2p<=0.9)\n",
    "tally(MSUR_ATLMED_STACKS_FA) # 9768 SNPs\n",
    "# min MAF = 0.1, max MAF = 0.9\n",
    "MSUR_ATL_STACKS_FA <- filter(MSUR_ATL_STACKS_FA,G1_1p>=0.1,G1_2p>=0.1,G2_1p>=0.1,G1_2p>=0.1,G3_1p>=0.1,G3_2p>=0.1,G4_1p>=0.1,G4_2p>=0.1,G5_1p>=0.1,G5_2p>=0.1,G6_1p>=0.1,G6_2p>=0.1)\n",
    "MSUR_ATL_STACKS_FA <- filter(MSUR_ATL_STACKS_FA,G1_1p<=0.9,G1_2p<=0.9,G2_1p<=0.9,G1_2p<=0.9,G3_1p<=0.9,G3_2p<=0.9,G4_1p<=0.9,G4_2p<=0.9,G5_1p<=0.9,G5_2p<=0.9,G6_1p<=0.9,G6_2p<=0.9)\n",
    "tally(MSUR_ATL_STACKS_FA) # 9768 SNPs\n",
    "\n",
    "\n",
    "###################\n",
    "# WHITELISTS Stacks\n",
    "###################\n",
    "\n",
    "AD_STACKS_PPOL_50x_polyALL %>% select(POS) %>% \n",
    "  write.table(.,\"~/sync/genetique_poissons/RAD-seq_PPOL/bio-info/stacks/sorties_denovomap/Whitelist_AD_STACKS_PPOL_50x_polyALL.txt\",sep=\" \",col.names=F,row.names=F)\n",
    "AD_STACKS_MSUR_50x_polyALL %>% select(POS) %>% \n",
    "  write.table(.,\"~/sync/genetique_poissons/RAD-seq_MSUR/bio-info/stacks/Whitelist_AD_STACKS_MSUR_50x_polyALL.txt\",sep=\" \",col.names=F,row.names=F)\n",
    "\n",
    "\n",
    "\n",
    "\n",
    "# SNPs fixés avec DiscoSNP\n",
    "# MSUR_ATLMED_FA %>% filter(.,G7_1p==0) # 1,755 \n",
    "# MSUR_ATLMED_FA %>% filter(.,G7_1p==1) # 1,432\n",
    "## il y a 3187 SNPs fixés dans le G7 MSUR (MED)\n",
    "\n",
    "# SNPs fixés avec STACKS\n",
    "MSUR_ATLMED_STACKS_FA %>% filter(.,G7_1p==0) %>% tally() # 139\n",
    "MSUR_ATLMED_STACKS_FA %>% filter(.,G7_2p==0) %>% tally() # 3431\n",
    "# il y a 3570 SNPs ATL qui sont fixés dans MED (sur 9768=36.5%)"
   ]
  },
  {
   "cell_type": "code",
   "execution_count": 2,
   "metadata": {
    "collapsed": true
   },
   "outputs": [
    {
     "name": "stdout",
     "output_type": "stream",
     "text": [
      "populations parameters selected:\n",
      "  Fst kernel smoothing: off\n",
      "  Bootstrap resampling: off\n",
      "  Percent samples limit per population: 0\n",
      "  Locus Population limit: 6\n",
      "  Minimum stack depth: 0\n",
      "  Log liklihood filtering: off; threshold: 0\n",
      "  Minor allele frequency cutoff: 0.1\n",
      "  Maximum observed heterozygosity cutoff: 1\n",
      "  Applying Fst correction: none.\n",
      "\n",
      "Error: Failed to create directory './populations_p6/calcul_pi'.\n",
      "Aborted.\n"
     ]
    },
    {
     "ename": "",
     "evalue": "13",
     "output_type": "error",
     "traceback": []
    }
   ],
   "source": [
    "# kernel: bash\n",
    "# avec whitelist\n",
    "cd ~/sync/genetique_poissons/RAD-seq_PPOL/\n",
    "denovo_map.pl -S -b 8 -T 32 -m 50 -M 3 -n 3 \\\n",
    "    --samples ./PPOL_DATA2/PPOL_fastq_clone_filtered/reads1/ \\\n",
    "    --popmap ./PPOL_DATA2/PPOL_fastq_clone_filtered/reads1/population_map_PPOL.txt \\\n",
    "    -o /media/tony/DATA2/PPOL_DATA2/bio_info_PPOL/stacks/denovo_map_filtered_bounded/ustacks_m50_M3/ \\\n",
    "    -X \"ustacks: --max_locus_stacks 15 --model_type 'bounded' --bound_high 0.05\" \\\n",
    "    -X \"populations: -p 6 --vcf --vcf_haplotypes --min_maf 0 \\\n",
    "        -W ~/sync/genetique_poissons/RAD-seq_PPOL/bio-info/stacks/sorties_denovomap/Whitelist_AD_STACKS_PPOL_50x_polyALL.txt \\\n",
    "        -O /media/tony/DATA2/PPOL/bio_info_PPOL/stacks/denovo_map_filtered_bounded/ustacks_m50_M3/populations_p6\""
   ]
  },
  {
   "cell_type": "markdown",
   "metadata": {},
   "source": [
    "# Scan génomique  - recherche d'outliers : BayeScan\n",
    "## préparation du fichier bayescan"
   ]
  },
  {
   "cell_type": "code",
   "execution_count": null,
   "metadata": {
    "collapsed": true,
    "scrolled": true
   },
   "outputs": [],
   "source": [
    "# kernel: R\n",
    "# à partir des objets R créés précédemment\n",
    "\n",
    "## PPOL\n",
    "#######\n",
    "pop1=pop2=pop3=pop4=pop5=pop6=NULL\n",
    "tally(PPOL)->loci_id_PPOL # 21060\n",
    "pop1$V1=pop2$V1=pop3$V1=pop4$V1=pop5$V1=pop6$V1 <- as.vector(c(1:loci_id_PPOL$n))\n",
    "pop1$V3=pop2$V3=pop3$V3=pop4$V3=pop5$V3=pop6$V3 <- as.vector(rep(2, each=loci_id_PPOL$n))\n",
    "\n",
    "pop1$V2 <- as.vector(PPOL$G1)\n",
    "pop1$V4 <- as.vector(PPOL$G1_1)\n",
    "pop1$V5 <- as.vector(PPOL$G1_2)\n",
    "pop1 %>% as_data_frame() %>% select(.,V1,V2,V3,V4,V5) %>% \n",
    "  write.csv(.,\"~/sync/genetique_poissons/RAD-seq_PPOL/bio-info/discoSNPRAD/fichiers_bayescan/pop1.csv\", row.names = F)\n",
    "\n",
    "pop2$V2 <- as.vector(PPOL$G2)\n",
    "pop2$V4 <- as.vector(PPOL$G2_1)\n",
    "    pop2$V5 <- as.vector(PPOL$G2_2)\n",
    "pop2 %>% as_data_frame() %>% select(.,V1,V2,V3,V4,V5) %>% \n",
    "  write.csv(.,\"~/sync/genetique_poissons/RAD-seq_PPOL/bio-info/discoSNPRAD/fichiers_bayescan/pop2.csv\", row.names = F)\n",
    "\n",
    "pop3$V2 <- as.vector(PPOL$G3)\n",
    "pop3$V4 <- as.vector(PPOL$G3_1)\n",
    "pop3$V5 <- as.vector(PPOL$G3_2)\n",
    "pop3 %>% as_data_frame() %>% select(.,V1,V2,V3,V4,V5) %>% \n",
    "  write.csv(.,\"~/sync/genetique_poissons/RAD-seq_PPOL/bio-info/discoSNPRAD/fichiers_bayescan/pop3.csv\", row.names = F)\n",
    "\n",
    "pop4$V2 <- as.vector(PPOL$G4)\n",
    "pop4$V4 <- as.vector(PPOL$G4_1)\n",
    "pop4$V5 <- as.vector(PPOL$G4_2)\n",
    "pop4 %>% as_data_frame() %>% select(.,V1,V2,V3,V4,V5) %>% \n",
    "  write.csv(.,\"~/sync/genetique_poissons/RAD-seq_PPOL/bio-info/discoSNPRAD/fichiers_bayescan/pop4.csv\", row.names = F)\n",
    "\n",
    "pop5$V2 <- as.vector(PPOL$G5)\n",
    "pop5$V4 <- as.vector(PPOL$G5_1)\n",
    "pop5$V5 <- as.vector(PPOL$G5_2)\n",
    "pop5 %>% as_data_frame() %>% select(.,V1,V2,V3,V4,V5) %>% \n",
    "  write.csv(.,\"~/sync/genetique_poissons/RAD-seq_PPOL/bio-info/discoSNPRAD/fichiers_bayescan/pop5.csv\", row.names = F)\n",
    "\n",
    "pop6$V2 <- as.vector(PPOL$G6)\n",
    "pop6$V4 <- as.vector(PPOL$G6_1)\n",
    "pop6$V5 <- as.vector(PPOL$G6_2)\n",
    "pop6 %>% as_data_frame() %>% select(.,V1,V2,V3,V4,V5) %>% \n",
    "  write.csv(.,\"~/sync/genetique_poissons/RAD-seq_PPOL/bio-info/discoSNPRAD/fichiers_bayescan/pop6.csv\", row.names = F)"
   ]
  },
  {
   "cell_type": "code",
   "execution_count": null,
   "metadata": {
    "collapsed": true,
    "scrolled": true
   },
   "outputs": [],
   "source": [
    "# kernel: R\n",
    "## MSUR\n",
    "#######\n",
    "tally(MSUR_P6)->loci_id_MSUR # 58244\n",
    "pop1$V1=pop2$V1=pop3$V1=pop4$V1=pop5$V1=pop6$V1 <- as.vector(c(1:loci_id_MSUR$n))\n",
    "pop1$V3=pop2$V3=pop3$V3=pop4$V3=pop5$V3=pop6$V3 <- as.vector(rep(2, each=loci_id_MSUR$n))\n",
    "\n",
    "pop1$V2 <- as.vector(MSUR_P6$G1)\n",
    "pop1$V4 <- as.vector(MSUR_P6$G1_1)\n",
    "pop1$V5 <- as.vector(MSUR_P6$G1_2)\n",
    "pop1 %>% as_data_frame() %>% select(.,V1,V2,V3,V4,V5) %>% \n",
    "  write.csv(.,\"~/sync/genetique_poissons/RAD-seq_MSUR/bio-info/discoSNPRAD/fichiers_bayescan/pop1.csv\", row.names = F)\n",
    "\n",
    "pop2$V2 <- as.vector(MSUR_P6$G2)\n",
    "pop2$V4 <- as.vector(MSUR_P6$G2_1)\n",
    "pop2$V5 <- as.vector(MSUR_P6$G2_2)\n",
    "pop2 %>% as_data_frame() %>% select(.,V1,V2,V3,V4,V5) %>% \n",
    "  write.csv(.,\"~/sync/genetique_poissons/RAD-seq_MSUR/bio-info/discoSNPRAD/fichiers_bayescan/pop2.csv\", row.names = F)\n",
    "\n",
    "pop3$V2 <- as.vector(MSUR_P6$G3)\n",
    "pop3$V4 <- as.vector(MSUR_P6$G3_1)\n",
    "pop3$V5 <- as.vector(MSUR_P6$G3_2)\n",
    "pop3 %>% as_data_frame() %>% select(.,V1,V2,V3,V4,V5) %>% \n",
    "  write.csv(.,\"~/sync/genetique_poissons/RAD-seq_MSUR/bio-info/discoSNPRAD/fichiers_bayescan/pop3.csv\", row.names = F)\n",
    "\n",
    "pop4$V2 <- as.vector(MSUR_P6$G4)\n",
    "pop4$V4 <- as.vector(MSUR_P6$G4_1)\n",
    "pop4$V5 <- as.vector(MSUR_P6$G4_2)\n",
    "pop4 %>% as_data_frame() %>% select(.,V1,V2,V3,V4,V5) %>% \n",
    "  write.csv(.,\"~/sync/genetique_poissons/RAD-seq_MSUR/bio-info/discoSNPRAD/fichiers_bayescan/pop4.csv\", row.names = F)\n",
    "\n",
    "pop5$V2 <- as.vector(MSUR_P6$G5)\n",
    "pop5$V4 <- as.vector(MSUR_P6$G5_1)\n",
    "pop5$V5 <- as.vector(MSUR_P6$G5_2)\n",
    "pop5 %>% as_data_frame() %>% select(.,V1,V2,V3,V4,V5) %>% \n",
    "  write.csv(.,\"~/sync/genetique_poissons/RAD-seq_MSUR/bio-info/discoSNPRAD/fichiers_bayescan/pop5.csv\", row.names = F)\n",
    "\n",
    "pop6$V2 <- as.vector(MSUR_P6$G6)\n",
    "pop6$V4 <- as.vector(MSUR_P6$G6_1)\n",
    "pop6$V5 <- as.vector(MSUR_P6$G6_2)\n",
    "pop6 %>% as_data_frame() %>% select(.,V1,V2,V3,V4,V5) %>% \n",
    "  write.csv(.,\"~/sync/genetique_poissons/RAD-seq_MSUR/bio-info/discoSNPRAD/fichiers_bayescan/pop6.csv\", row.names = F)"
   ]
  },
  {
   "cell_type": "markdown",
   "metadata": {},
   "source": [
    "A partir des fichiers popX.csv, fabriquer le fichier .txt de bayescan (format csv sep=tab, avec l'extension .txt). Attention à bien respecter le format standard, sans ligne vide importune.\n",
    "## Bayescan\n",
    "pour PPOL, puis MSUR"
   ]
  },
  {
   "cell_type": "code",
   "execution_count": null,
   "metadata": {
    "collapsed": true
   },
   "outputs": [],
   "source": [
    "# kernel: bash\n",
    "cd ~/sync/genetique_poissons/RAD-seq_PPOL/bio-info/discoSNPRAD/fichiers_bayescan/\n",
    "# mettre l'executable de bayescan linux dans le répertoire, ou le sourcer dans le PATH\n",
    "./BayeScan2.1_linux64bits ./PPOL_DiscoSnpRad_P3_cauto_bayescan.txt  -o bayescanLongRunOD10_PPOL_DiscoSnpRad_P3_cauto -n 5000 -thin 10 -pilot 5000 -burn 50000 -pr_odds 10"
   ]
  },
  {
   "cell_type": "code",
   "execution_count": null,
   "metadata": {
    "collapsed": true
   },
   "outputs": [],
   "source": [
    "# kernel: bash\n",
    "cd ~/sync/genetique_poissons/RAD-seq_MSUR/bio-info/discoSNPRAD/fichiers_bayescan/\n",
    "# mettre l'executable de bayescan linux dans le répertoire, ou le sourcer dans le PATH\n",
    "./BayeScan2.1_linux64bits ./MSUR_disco_P3_cauto_bayescan.txt  -o bayescanLongRunOD10_MSUR_DiscoSnpRad_P3_cauto -n 5000 -thin 10 -pilot 5000 -burn 50000 -pr_odds 10"
   ]
  },
  {
   "cell_type": "markdown",
   "metadata": {},
   "source": [
    "# Analyse de la structure populationnelle\n",
    "\n",
    "\n",
    "Il faut avoir au préalable retiré les outliers Bayescan pour construire 2 jeux par espèce:\n",
    "- un jeu d'outliers\n",
    "- un jeu de marqueurs neutres"
   ]
  },
  {
   "cell_type": "code",
   "execution_count": 2,
   "metadata": {},
   "outputs": [
    {
     "data": {
      "text/html": [
       "<table>\n",
       "<thead><tr><th scope=col>n</th></tr></thead>\n",
       "<tbody>\n",
       "\t<tr><td>928</td></tr>\n",
       "</tbody>\n",
       "</table>\n"
      ],
      "text/latex": [
       "\\begin{tabular}{r|l}\n",
       " n\\\\\n",
       "\\hline\n",
       "\t 928\\\\\n",
       "\\end{tabular}\n"
      ],
      "text/markdown": [
       "\n",
       "n | \n",
       "|---|\n",
       "| 928 | \n",
       "\n",
       "\n"
      ],
      "text/plain": [
       "  n  \n",
       "1 928"
      ]
     },
     "metadata": {},
     "output_type": "display_data"
    },
    {
     "data": {
      "text/html": [
       "<table>\n",
       "<thead><tr><th scope=col>n</th></tr></thead>\n",
       "<tbody>\n",
       "\t<tr><td>20132</td></tr>\n",
       "</tbody>\n",
       "</table>\n"
      ],
      "text/latex": [
       "\\begin{tabular}{r|l}\n",
       " n\\\\\n",
       "\\hline\n",
       "\t 20132\\\\\n",
       "\\end{tabular}\n"
      ],
      "text/markdown": [
       "\n",
       "n | \n",
       "|---|\n",
       "| 20132 | \n",
       "\n",
       "\n"
      ],
      "text/plain": [
       "  n    \n",
       "1 20132"
      ]
     },
     "metadata": {},
     "output_type": "display_data"
    },
    {
     "data": {
      "text/html": [
       "<table>\n",
       "<thead><tr><th scope=col>n</th></tr></thead>\n",
       "<tbody>\n",
       "\t<tr><td>3259</td></tr>\n",
       "</tbody>\n",
       "</table>\n"
      ],
      "text/latex": [
       "\\begin{tabular}{r|l}\n",
       " n\\\\\n",
       "\\hline\n",
       "\t 3259\\\\\n",
       "\\end{tabular}\n"
      ],
      "text/markdown": [
       "\n",
       "n | \n",
       "|---|\n",
       "| 3259 | \n",
       "\n",
       "\n"
      ],
      "text/plain": [
       "  n   \n",
       "1 3259"
      ]
     },
     "metadata": {},
     "output_type": "display_data"
    },
    {
     "data": {
      "text/html": [
       "<table>\n",
       "<thead><tr><th scope=col>n</th></tr></thead>\n",
       "<tbody>\n",
       "\t<tr><td>54985</td></tr>\n",
       "</tbody>\n",
       "</table>\n"
      ],
      "text/latex": [
       "\\begin{tabular}{r|l}\n",
       " n\\\\\n",
       "\\hline\n",
       "\t 54985\\\\\n",
       "\\end{tabular}\n"
      ],
      "text/markdown": [
       "\n",
       "n | \n",
       "|---|\n",
       "| 54985 | \n",
       "\n",
       "\n"
      ],
      "text/plain": [
       "  n    \n",
       "1 54985"
      ]
     },
     "metadata": {},
     "output_type": "display_data"
    }
   ],
   "source": [
    "# kernel: R\n",
    "library(dplyr)\n",
    "library(tidyr)\n",
    "library(stringr)\n",
    "\n",
    "################################\n",
    "# séparation outliers // neutres\n",
    "################################\n",
    "# FA\n",
    "PPOL_bayescan <- \"~/sync/genetique_poissons/RAD-seq_PPOL/bio-info/discoSNPRAD/fichiers_bayescan/bayescanLongRunOD10_PPOL_DiscoSnpRad_P3_cauto_fst.txt\" %>% read.csv(.,sep=\",\") %>% as_tibble()\n",
    "PPOL_bayescan$X. <- PPOL_FA$X. <- as.vector(c(1:21060))\n",
    "PPOL_FA_full <- full_join(PPOL_bayescan, PPOL_FA, by = \"X.\")\n",
    "PPOL_FA_outliers <- filter(PPOL_FA_full, qval<0.05)\n",
    "PPOL_FA_neutres <- filter(PPOL_FA_full, qval>0.05)\n",
    "tally(PPOL_FA_outliers) # 928 outliers\n",
    "tally(PPOL_FA_neutres) # 20132 neutres\n",
    "\n",
    "MSUR_bayescan <- \"~/sync/genetique_poissons/RAD-seq_MSUR/bio-info/discoSNPRAD/fichiers_bayescan/MSUR_Bayescan_DiscoSnpRad_P3_cauto_fst.csv\" %>% read.csv() %>% as_tibble()\n",
    "MSUR_FA$X. <- as.vector(c(1:58244))\n",
    "MSUR_FA_full <- full_join(MSUR_bayescan, MSUR_FA, by = \"X.\")\n",
    "MSUR_FA_outliers <- filter(MSUR_FA_full, qval<0.05)\n",
    "MSUR_FA_neutres <- filter(MSUR_FA_full, qval>0.05)\n",
    "tally(MSUR_FA_outliers) # 3259 outliers\n",
    "tally(MSUR_FA_neutres) # 54985 neutres"
   ]
  },
  {
   "cell_type": "markdown",
   "metadata": {},
   "source": [
    "## Analyses multivariées: PCoA (Principal Coordinates Analysis)\n",
    "\n",
    "La PCoA est pratiquée sur une matrice de dissimilarité (distances génétiques de Nei).\n",
    "Les distances génétiques sont calculées par nei.dist du package poppr."
   ]
  },
  {
   "cell_type": "code",
   "execution_count": 3,
   "metadata": {},
   "outputs": [
    {
     "name": "stderr",
     "output_type": "stream",
     "text": [
      "Loading required package: adegenet\n",
      "Loading required package: ade4\n",
      "\n",
      "   /// adegenet 2.1.1 is loaded ////////////\n",
      "\n",
      "   > overview: '?adegenet'\n",
      "   > tutorials/doc/questions: 'adegenetWeb()' \n",
      "   > bug reports/feature requests: adegenetIssues()\n",
      "\n",
      "\n",
      "This is poppr version 2.6.1. To get started, type package?poppr\n",
      "OMP parallel support: available\n"
     ]
    }
   ],
   "source": [
    "# kernel: R\n",
    "###########\n",
    "# distances de Nei avec poppr\n",
    "#############################\n",
    "library(poppr)\n",
    "################\n",
    "# sur outliers\n",
    "################\n",
    "# MSUR_outliers\n",
    "MSUR_FA_outliers %>% select(.,G1_1p, G2_1p, G3_1p, G4_1p, G5_1p, G6_1p) -> MSUR_FA_outliers1 # on enlève les profondeurs de locus et les allèles mineurs\n",
    "MSUR_FA_outliers1 %>% as.data.frame() -> MSUR_FA_outliers_df1\n",
    "t(as.matrix(MSUR_FA_outliers_df1))-> MSUR_FA_outliers_df1t\n",
    "MSUR_FA_outliers$X.CHROM -> colnames(MSUR_FA_outliers_df1t)\n",
    "MSUR_FA_outliers_dist <- nei.dist(MSUR_FA_outliers_df1t, warning=T) # matrice des distances de Nei entre alleles majeurs par locus, locus_allele en colonnes, pools en ligne\n",
    "# PPOL_outliers\n",
    "PPOL_FA_outliers %>% select(.,G1_1p, G2_1p, G3_1p, G4_1p, G5_1p, G6_1p) -> PPOL_FA_outliers1\n",
    "PPOL_FA_outliers1 %>% as.data.frame() -> PPOL_FA_outliers_df1\n",
    "t(as.matrix(PPOL_FA_outliers_df1))-> PPOL_FA_outliers_df1t\n",
    "PPOL_FA_outliers$X.CHROM -> colnames(PPOL_FA_outliers_df1t)\n",
    "PPOL_FA_outliers_dist <- nei.dist(PPOL_FA_outliers_df1t, warning=T)\n",
    "\n",
    "#############\n",
    "# sur neutres\n",
    "#############\n",
    "# MSUR_neutres\n",
    "MSUR_FA_neutres %>% select(.,G1_1p, G2_1p, G3_1p, G4_1p, G5_1p, G6_1p) -> MSUR_FA_neutres1\n",
    "MSUR_FA_neutres1 %>% as.data.frame() -> MSUR_FA_neutres_df1\n",
    "t(as.matrix(MSUR_FA_neutres_df1))-> MSUR_FA_neutres_df1t\n",
    "MSUR_FA_neutres$X.CHROM -> colnames(MSUR_FA_neutres_df1t)\n",
    "MSUR_FA_neutres_dist <- nei.dist(MSUR_FA_neutres_df1t, warning=T)\n",
    "# PPOL_neutres\n",
    "PPOL_FA_neutres %>% select(.,G1_1p, G2_1p, G3_1p, G4_1p, G5_1p, G6_1p) -> PPOL_FA_neutres1\n",
    "PPOL_FA_neutres1 %>% as.data.frame() -> PPOL_FA_neutres_df1\n",
    "t(as.matrix(PPOL_FA_neutres_df1))-> PPOL_FA_neutres_df1t\n",
    "PPOL_FA_neutres$X.CHROM -> colnames(PPOL_FA_neutres_df1t)\n",
    "PPOL_FA_neutres_dist <- nei.dist(PPOL_FA_neutres_df1t, warning=T)"
   ]
  },
  {
   "cell_type": "markdown",
   "metadata": {},
   "source": [
    "**Puis PCoA et hclust/ggtree sur les loci neutres putatifs\n",
    "(avec les objets PPOL_neutres et MSUR_neutres précédemment construits)**"
   ]
  },
  {
   "cell_type": "code",
   "execution_count": 4,
   "metadata": {
    "scrolled": false
   },
   "outputs": [
    {
     "name": "stderr",
     "output_type": "stream",
     "text": [
      "Loading required package: permute\n",
      "Loading required package: lattice\n",
      "This is vegan 2.4-6\n",
      "\n",
      "Attaching package: ‘gridExtra’\n",
      "\n",
      "The following object is masked from ‘package:dplyr’:\n",
      "\n",
      "    combine\n",
      "\n",
      "\n",
      "Attaching package: ‘cowplot’\n",
      "\n",
      "The following object is masked from ‘package:ggplot2’:\n",
      "\n",
      "    ggsave\n",
      "\n"
     ]
    },
    {
     "data": {
      "text/plain": [
       "Inertia information:\n",
       "Call: inertia.dudi(x = pco_PPOL_FA_neutres)\n",
       "\n",
       "Decomposition of total inertia:\n",
       "      inertia       cum  cum(%)\n",
       "Ax1 3.348e-06 3.348e-06   32.49\n",
       "Ax2 2.342e-06 5.689e-06   55.22\n",
       "Ax3 1.760e-06 7.449e-06   72.30\n",
       "Ax4 1.513e-06 8.962e-06   86.98\n",
       "Ax5 1.341e-06 1.030e-05  100.00"
      ]
     },
     "metadata": {},
     "output_type": "display_data"
    },
    {
     "data": {
      "text/plain": [
       "Inertia information:\n",
       "Call: inertia.dudi(x = pco_MSUR_FA_neutres)\n",
       "\n",
       "Decomposition of total inertia:\n",
       "      inertia       cum  cum(%)\n",
       "Ax1 4.505e-05 4.505e-05   75.81\n",
       "Ax2 4.924e-06 4.997e-05   84.09\n",
       "Ax3 3.862e-06 5.383e-05   90.59\n",
       "Ax4 3.580e-06 5.741e-05   96.62\n",
       "Ax5 2.010e-06 5.942e-05  100.00"
      ]
     },
     "metadata": {},
     "output_type": "display_data"
    },
    {
     "name": "stderr",
     "output_type": "stream",
     "text": [
      "Warning message in dudi.pco(MSUR_FA_outliers_dist, scannf = FALSE, nf = 2):\n",
      "“Non euclidean distance”"
     ]
    },
    {
     "data": {
      "text/plain": [
       "Inertia information:\n",
       "Call: inertia.dudi(x = pco_MSUR_FA_outliers)\n",
       "\n",
       "Decomposition of total inertia:\n",
       "      inertia      cum  cum(%)\n",
       "Ax1 3.098e-03 0.003098   97.54\n",
       "Ax2 5.086e-05 0.003149   99.14\n",
       "Ax3 2.734e-05 0.003176  100.00"
      ]
     },
     "metadata": {},
     "output_type": "display_data"
    },
    {
     "data": {
      "text/plain": [
       "Inertia information:\n",
       "Call: inertia.dudi(x = pco_PPOL_FA_outliers)\n",
       "\n",
       "Decomposition of total inertia:\n",
       "      inertia       cum  cum(%)\n",
       "Ax1 2.539e-05 2.539e-05   38.40\n",
       "Ax2 1.422e-05 3.961e-05   59.91\n",
       "Ax3 1.133e-05 5.094e-05   77.05\n",
       "Ax4 8.560e-06 5.950e-05   90.00\n",
       "Ax5 6.614e-06 6.611e-05  100.00"
      ]
     },
     "metadata": {},
     "output_type": "display_data"
    },
    {
     "data": {
      "image/png": "[encoded data removed]",
      "text/plain": [
       "plot without title"
      ]
     },
     "metadata": {},
     "output_type": "display_data"
    },
    {
     "data": {
      "image/png": "[encoded data removed]",
      "text/plain": [
       "plot without title"
      ]
     },
     "metadata": {},
     "output_type": "display_data"
    }
   ],
   "source": [
    "# kernel: R\n",
    "###############################\n",
    "# PCOA sur matrice de Nei\n",
    "###############################\n",
    "library(ggplot2)\n",
    "library(vegan)\n",
    "library(ade4)\n",
    "library(gridExtra)\n",
    "library(cowplot)\n",
    "mytheme <- theme_classic()\n",
    "mytheme$axis.line.x <- mytheme$axis.line.y <- mytheme$axis.line\n",
    "\n",
    "# sur Fréquences alléliques\n",
    "# neutres\n",
    "pco_PPOL_FA_neutres <- dudi.pco(PPOL_FA_neutres_dist, scannf=FALSE,nf=2)\n",
    "inertia.dudi(pco_PPOL_FA_neutres)\n",
    "cp1_2_PPOL_FA_neutres <- as.data.frame(pco_PPOL_FA_neutres$li)\n",
    "PPOL_pool_names -> cp1_2_PPOL_FA_neutres$pools\n",
    "PCO1 <- ggplot(cp1_2_PPOL_FA_neutres, aes(x= A1, y= A2)) + geom_point(aes(color=pools, shape=pools), size=5) + \n",
    "  mytheme + scale_shape_manual(values=c(12:17)) +\n",
    "  labs(x=\"PCoA1 (32.49%)\", y=\"PCoA2 (22.73%)\", title=\"PCoA Lieu, 20132 SNPs neutres (in. cum. 55.22%)\") + \n",
    "  theme(legend.position=\"right\",legend.title = element_blank(),legend.background=element_rect(fill=\"grey95\"))\n",
    "pco_MSUR_FA_neutres <- dudi.pco(MSUR_FA_neutres_dist, scannf=FALSE,nf=2)\n",
    "inertia.dudi(pco_MSUR_FA_neutres)\n",
    "cp1_2_MSUR_FA_neutres <- as.data.frame(pco_MSUR_FA_neutres$li)\n",
    "MSUR_pool_names -> cp1_2_MSUR_FA_neutres$pools\n",
    "PCO2 <- ggplot(cp1_2_MSUR_FA_neutres, aes(x= A1, y= A2)) + geom_point(aes(color=pools, shape=pools), size=5) + \n",
    "  mytheme + scale_shape_manual(values=c(12:15,11,17)) +\n",
    "  labs(x=\"PCoA1 (75.81%)\", y=\"PCoA2 (8.28%)\", title=\"PCoA Rouget, 54985 SNPs neutres (in. cum. 84.09%)\") +\n",
    "  theme(legend.position=\"right\",legend.title = element_blank(),legend.background=element_rect(fill=\"grey95\"))\n",
    "\n",
    "# outliers\n",
    "pco_MSUR_FA_outliers <- dudi.pco(MSUR_FA_outliers_dist, scannf=FALSE,nf=2)\n",
    "inertia.dudi(pco_MSUR_FA_outliers)\n",
    "cp1_2_MSUR_FA_outliers <- as.data.frame(pco_MSUR_FA_outliers$li)\n",
    "MSUR_pool_names -> cp1_2_MSUR_FA_outliers$pools\n",
    "PCO4 <- ggplot(cp1_2_MSUR_FA_outliers, aes(x= A1, y= A2)) + geom_point(aes(color=pools, shape=pools), size=5) + \n",
    "  mytheme + scale_shape_manual(values=c(12:15,11,17)) +\n",
    "  labs(x=\"PCoA1 (97.54%)\", y=\"PCoA2 (1.60%)\", title=\"PCoA Rouget, 3259 SNPs outliers (in. cum. 99.14%)\") + \n",
    "  theme(legend.position=\"right\",legend.title = element_blank(),legend.background=element_rect(fill=\"grey95\"))\n",
    "pco_PPOL_FA_outliers <- dudi.pco(PPOL_FA_outliers_dist, scannf=FALSE,nf=2)\n",
    "inertia.dudi(pco_PPOL_FA_outliers)\n",
    "cp1_2_PPOL_FA_outliers <- as.data.frame(pco_PPOL_FA_outliers$li)\n",
    "PPOL_pool_names -> cp1_2_PPOL_FA_outliers$pools\n",
    "PCO3 <- ggplot(cp1_2_PPOL_FA_outliers, aes(x= A1, y= A2)) + geom_point(aes(color=pools, shape=pools), size=5) + \n",
    "  mytheme + scale_shape_manual(values=c(12:17)) +\n",
    "  labs(x=\"PCoA1 (38.40%)\", y=\"PCoA2 (21.51%)\", title=\"PCoA Lieu, 928 SNPs outliers (in. cum. 59.91%)\") + \n",
    "  theme(legend.position=\"right\",legend.title = element_blank(),legend.background=element_rect(fill=\"grey95\"))\n",
    "grid.arrange(PCO1,PCO3)\n",
    "grid.arrange(PCO2,PCO4)"
   ]
  },
  {
   "cell_type": "markdown",
   "metadata": {},
   "source": [
    "Dendrogrammes par UPGMA sur neutres et outliers\n",
    "\n",
    "**PPOL**: le sud de l'aire de répartition se détache nettement (Gascogne Espagne), la mer celtique un peu moins.\n",
    "\n",
    "**MSUR**: l'Ecosse - Mer du nord se détache nettement, la Manche occidentale un peu moins."
   ]
  },
  {
   "cell_type": "code",
   "execution_count": 5,
   "metadata": {
    "scrolled": false
   },
   "outputs": [
    {
     "name": "stderr",
     "output_type": "stream",
     "text": [
      "Loading required package: treeio\n",
      "\n",
      "Attaching package: ‘treeio’\n",
      "\n",
      "The following objects are masked from ‘package:ape’:\n",
      "\n",
      "    drop.tip, Nnode, Ntip\n",
      "\n",
      "ggtree v1.10.4  For help: https://guangchuangyu.github.io/ggtree\n",
      "\n",
      "If you use ggtree in published research, please cite:\n",
      "Guangchuang Yu, David Smith, Huachen Zhu, Yi Guan, Tommy Tsan-Yuk Lam. ggtree: an R package for visualization and annotation of phylogenetic trees with their covariates and other associated data. Methods in Ecology and Evolution 2017, 8(1):28-36, doi:10.1111/2041-210X.12628\n",
      "\n",
      "Attaching package: ‘ggtree’\n",
      "\n",
      "The following object is masked from ‘package:ape’:\n",
      "\n",
      "    rotate\n",
      "\n",
      "The following object is masked from ‘package:tidyr’:\n",
      "\n",
      "    expand\n",
      "\n",
      "The following object is masked from ‘package:dplyr’:\n",
      "\n",
      "    collapse\n",
      "\n"
     ]
    },
    {
     "data": {
      "image/png": "[encoded data removed]",
      "text/plain": [
       "Plot with title “PPOL 928 SNPs outliers UPGMA”"
      ]
     },
     "metadata": {},
     "output_type": "display_data"
    },
    {
     "data": {
      "image/png": "[encoded data removed]",
      "text/plain": [
       "Plot with title “MSUR 3259 SNPs outliers UPGMA”"
      ]
     },
     "metadata": {},
     "output_type": "display_data"
    }
   ],
   "source": [
    "# kernel: R\n",
    "###############\n",
    "#### CLUSTERING\n",
    "###########################\n",
    "library(ape)\n",
    "library(ggtree)\n",
    "# source(\"https://bioconductor.org/biocLite.R\")\n",
    "# biocLite(\"ggtree\")\n",
    "# PPOL\n",
    "h_PPOL_FA_neutres_av <- hclust(PPOL_FA_neutres_dist, method=\"average\")\n",
    "h_PPOL_FA_outliers_av <- hclust(PPOL_FA_outliers_dist, method=\"average\")\n",
    "PPOL_pool_names -> h_PPOL_FA_neutres_av$labels -> h_PPOL_FA_outliers_av$labels\n",
    "par(mfrow=c(1,2))\n",
    "plot(h_PPOL_FA_neutres_av, label=h_PPOL_FA_neutres_av$labels, main=\"PPOL 20132 SNPs neutres UPGMA\", cex=.9)\n",
    "plot(h_PPOL_FA_outliers_av, label=h_PPOL_FA_outliers_av$labels, main=\"PPOL 928 SNPs outliers UPGMA\", cex=.9)\n",
    "\n",
    "# MSUR\n",
    "h_MSUR_FA_neutres_av <- hclust(MSUR_FA_neutres_dist, method=\"average\")\n",
    "h_MSUR_FA_outliers_av <- hclust(MSUR_FA_outliers_dist, method=\"average\")\n",
    "MSUR_pool_names -> h_MSUR_FA_neutres_av$labels -> h_MSUR_FA_outliers_av$labels\n",
    "par(mfrow=c(1,2))\n",
    "plot(h_MSUR_FA_neutres_av, label=h_MSUR_FA_neutres_av$labels, main=\"MSUR 54985 SNPs neutres UPGMA\", cex=.9)\n",
    "plot(h_MSUR_FA_outliers_av, label=h_MSUR_FA_outliers_av$labels, main=\"MSUR 3259 SNPs outliers UPGMA\", cex=.9)"
   ]
  },
  {
   "cell_type": "markdown",
   "metadata": {},
   "source": [
    "# **Test des regroupements de pools dans les clusters**\n",
    "\n",
    "K-means with vegan::cascadeKM()"
   ]
  },
  {
   "cell_type": "code",
   "execution_count": 20,
   "metadata": {
    "collapsed": true
   },
   "outputs": [
    {
     "data": {
      "text/plain": [
       "$partition\n",
       "                   2 groups 3 groups 4 groups 5 groups\n",
       "Ecosse_mer_du_Nord        1        2        3        2\n",
       "Sud Irlande               2        1        4        1\n",
       "Manche ouest              2        3        1        5\n",
       "Gascogne France           2        1        4        4\n",
       "Gascogne Espagne          2        1        2        3\n",
       "Portugal                  2        1        2        3\n",
       "\n",
       "$results\n",
       "        2 groups     3 groups     4 groups    5 groups\n",
       "SSE 574.67438896 391.31431832 249.46442521 123.5424439\n",
       "ssi   0.02616662   0.03252284   0.06174775   0.0593605\n",
       "\n",
       "$criterion\n",
       "[1] \"ssi\"\n",
       "\n",
       "$size\n",
       "        2 groups 3 groups 4 groups 5 groups\n",
       "Group 1        1        4        1        1\n",
       "Group 2        5        1        2        1\n",
       "Group 3       NA        1        1        2\n",
       "Group 4       NA       NA        2        1\n",
       "Group 5       NA       NA       NA        1\n",
       "\n",
       "attr(,\"class\")\n",
       "[1] \"cascadeKM\""
      ]
     },
     "metadata": {},
     "output_type": "display_data"
    },
    {
     "data": {
      "text/plain": [
       "$partition\n",
       "                   2 groups 3 groups 4 groups 5 groups\n",
       "Ecosse_mer_du_Nord        2        3        1        2\n",
       "Sud Irlande               1        1        2        5\n",
       "Manche ouest              1        2        3        4\n",
       "Gascogne France           1        1        2        3\n",
       "Gascogne Espagne          1        1        4        1\n",
       "Portugal                  1        1        4        1\n",
       "\n",
       "$results\n",
       "           2 groups   3 groups   4 groups   5 groups\n",
       "SSE      574.674389 391.314318 249.464425 123.542444\n",
       "calinski   2.898313   2.299009   1.981863   1.755527\n",
       "\n",
       "$criterion\n",
       "[1] \"calinski\"\n",
       "\n",
       "$size\n",
       "        2 groups 3 groups 4 groups 5 groups\n",
       "Group 1        5        4        1        2\n",
       "Group 2        1        1        2        1\n",
       "Group 3       NA        1        1        1\n",
       "Group 4       NA       NA        2        1\n",
       "Group 5       NA       NA       NA        1\n",
       "\n",
       "attr(,\"class\")\n",
       "[1] \"cascadeKM\""
      ]
     },
     "metadata": {},
     "output_type": "display_data"
    },
    {
     "data": {
      "text/plain": [
       "$partition\n",
       "                             2 groups 3 groups 4 groups 5 groups\n",
       "Ecosse-Mer du Nord                  1        2        2        5\n",
       "Mer celtique                        1        3        1        3\n",
       "Mer d'Irlande_Pays de Galles        1        2        3        1\n",
       "Manche Ouest                        1        2        2        4\n",
       "Gascogne France                     1        2        2        4\n",
       "Gascogne Espagne                    2        1        4        2\n",
       "\n",
       "$results\n",
       "        2 groups   3 groups    4 groups   5 groups\n",
       "SSE 115.23654863 81.7738100 52.14409835 25.4815498\n",
       "ssi   0.01280982  0.0172018  0.02355661  0.0364713\n",
       "\n",
       "$criterion\n",
       "[1] \"ssi\"\n",
       "\n",
       "$size\n",
       "        2 groups 3 groups 4 groups 5 groups\n",
       "Group 1        5        1        1        1\n",
       "Group 2        1        4        3        1\n",
       "Group 3       NA        1        1        1\n",
       "Group 4       NA       NA        1        2\n",
       "Group 5       NA       NA       NA        1\n",
       "\n",
       "attr(,\"class\")\n",
       "[1] \"cascadeKM\""
      ]
     },
     "metadata": {},
     "output_type": "display_data"
    },
    {
     "data": {
      "text/plain": [
       "$partition\n",
       "                             2 groups 3 groups 4 groups 5 groups\n",
       "Ecosse-Mer du Nord                  1        1        2        3\n",
       "Mer celtique                        1        2        1        1\n",
       "Mer d'Irlande_Pays de Galles        1        1        4        4\n",
       "Manche Ouest                        1        1        2        2\n",
       "Gascogne France                     1        1        2        2\n",
       "Gascogne Espagne                    2        3        3        5\n",
       "\n",
       "$results\n",
       "           2 groups  3 groups 4 groups  5 groups\n",
       "SSE      115.236549 81.773810 52.14410 25.481550\n",
       "calinski   1.369183  1.337367  1.31095  1.267584\n",
       "\n",
       "$criterion\n",
       "[1] \"calinski\"\n",
       "\n",
       "$size\n",
       "        2 groups 3 groups 4 groups 5 groups\n",
       "Group 1        5        4        1        1\n",
       "Group 2        1        1        3        2\n",
       "Group 3       NA        1        1        1\n",
       "Group 4       NA       NA        1        1\n",
       "Group 5       NA       NA       NA        1\n",
       "\n",
       "attr(,\"class\")\n",
       "[1] \"cascadeKM\""
      ]
     },
     "metadata": {},
     "output_type": "display_data"
    }
   ],
   "source": [
    "#############\n",
    "# cascadeKM\n",
    "#############\n",
    "# mêmes résultats que les clusters\n",
    "\n",
    "MSUR_pool_names -> rownames(MSUR_FA_neutres_df1t)\n",
    "cascadeKM(MSUR_FA_neutres_df1t,2,5,criterion=\"ssi\")\n",
    "cascadeKM(MSUR_FA_neutres_df1t,2,5,criterion=\"calinski\")\n",
    "\n",
    "PPOL_pool_names -> rownames(PPOL_FA_neutres_df1t)\n",
    "cascadeKM(PPOL_FA_neutres_df1t,2,5,criterion=\"ssi\")\n",
    "cascadeKM(PPOL_FA_neutres_df1t,2,5,criterion=\"calinski\")\n",
    "\n",
    "##############"
   ]
  },
  {
   "cell_type": "markdown",
   "metadata": {},
   "source": [
    "# Calcul des Fst globaux\n",
    "\n",
    "Le Fst global de chaque espèce est très faible.\n",
    "Impossible de calculer des Fst par pool, ne disposant pas de variance ni de moyenne intra-pool."
   ]
  },
  {
   "cell_type": "code",
   "execution_count": 7,
   "metadata": {},
   "outputs": [
    {
     "data": {
      "text/html": [
       "<table>\n",
       "<thead><tr><th scope=col>Fst_avg_PPOL_all</th></tr></thead>\n",
       "<tbody>\n",
       "\t<tr><td>0.0008454265</td></tr>\n",
       "</tbody>\n",
       "</table>\n"
      ],
      "text/latex": [
       "\\begin{tabular}{r|l}\n",
       " Fst\\_avg\\_PPOL\\_all\\\\\n",
       "\\hline\n",
       "\t 0.0008454265\\\\\n",
       "\\end{tabular}\n"
      ],
      "text/markdown": [
       "\n",
       "Fst_avg_PPOL_all | \n",
       "|---|\n",
       "| 0.0008454265 | \n",
       "\n",
       "\n"
      ],
      "text/plain": [
       "  Fst_avg_PPOL_all\n",
       "1 0.0008454265    "
      ]
     },
     "metadata": {},
     "output_type": "display_data"
    },
    {
     "data": {
      "text/html": [
       "<table>\n",
       "<thead><tr><th scope=col>Fst_avg_PPOL_neutres</th></tr></thead>\n",
       "<tbody>\n",
       "\t<tr><td>0.0007771414</td></tr>\n",
       "</tbody>\n",
       "</table>\n"
      ],
      "text/latex": [
       "\\begin{tabular}{r|l}\n",
       " Fst\\_avg\\_PPOL\\_neutres\\\\\n",
       "\\hline\n",
       "\t 0.0007771414\\\\\n",
       "\\end{tabular}\n"
      ],
      "text/markdown": [
       "\n",
       "Fst_avg_PPOL_neutres | \n",
       "|---|\n",
       "| 0.0007771414 | \n",
       "\n",
       "\n"
      ],
      "text/plain": [
       "  Fst_avg_PPOL_neutres\n",
       "1 0.0007771414        "
      ]
     },
     "metadata": {},
     "output_type": "display_data"
    },
    {
     "data": {
      "text/html": [
       "<table>\n",
       "<thead><tr><th scope=col>Fst_avg_MSUR_all</th></tr></thead>\n",
       "<tbody>\n",
       "\t<tr><td>0.002225212</td></tr>\n",
       "</tbody>\n",
       "</table>\n"
      ],
      "text/latex": [
       "\\begin{tabular}{r|l}\n",
       " Fst\\_avg\\_MSUR\\_all\\\\\n",
       "\\hline\n",
       "\t 0.002225212\\\\\n",
       "\\end{tabular}\n"
      ],
      "text/markdown": [
       "\n",
       "Fst_avg_MSUR_all | \n",
       "|---|\n",
       "| 0.002225212 | \n",
       "\n",
       "\n"
      ],
      "text/plain": [
       "  Fst_avg_MSUR_all\n",
       "1 0.002225212     "
      ]
     },
     "metadata": {},
     "output_type": "display_data"
    },
    {
     "data": {
      "text/html": [
       "<table>\n",
       "<thead><tr><th scope=col>Fst_avg_MSUR_neutres</th></tr></thead>\n",
       "<tbody>\n",
       "\t<tr><td>0.001754177</td></tr>\n",
       "</tbody>\n",
       "</table>\n"
      ],
      "text/latex": [
       "\\begin{tabular}{r|l}\n",
       " Fst\\_avg\\_MSUR\\_neutres\\\\\n",
       "\\hline\n",
       "\t 0.001754177\\\\\n",
       "\\end{tabular}\n"
      ],
      "text/markdown": [
       "\n",
       "Fst_avg_MSUR_neutres | \n",
       "|---|\n",
       "| 0.001754177 | \n",
       "\n",
       "\n"
      ],
      "text/plain": [
       "  Fst_avg_MSUR_neutres\n",
       "1 0.001754177         "
      ]
     },
     "metadata": {},
     "output_type": "display_data"
    }
   ],
   "source": [
    "########################\n",
    "# Hardy-Weinberg F-stats\n",
    "########################\n",
    "library(dplyr)\n",
    "library(stringr)\n",
    "library(matrixStats)\n",
    "\n",
    "# PPOL\n",
    "PPOL_FAs <- as.matrix(subset(PPOL_FA,select=c(G1_1p, G2_1p, G3_1p, G4_1p, G5_1p, G6_1p)))\n",
    "rowVars(PPOL_FAs) -> variances\n",
    "rowMeans(PPOL_FAs) -> means\n",
    "variances*(1-means)-> Fst_locus -> PPOL_FA$Fst_locus\n",
    "PPOL_FA %>% summarise(Fst_avg_PPOL_all=mean(Fst_locus)) # 0.000845\n",
    "\n",
    "PPOL_FAs_neutres <- as.matrix(subset(PPOL_FA_neutres,select=c(G1_1p, G2_1p, G3_1p, G4_1p, G5_1p, G6_1p)))\n",
    "rowVars(PPOL_FAs_neutres) -> variances\n",
    "rowMeans(PPOL_FAs_neutres) -> means\n",
    "variances*(1-means)-> Fst_locus -> PPOL_FA_neutres$Fst_locus\n",
    "PPOL_FA_neutres %>% summarise(Fst_avg_PPOL_neutres=mean(Fst_locus)) # 0.000777\n",
    "\n",
    "# MSUR\n",
    "MSUR_FAs <- as.matrix(subset(MSUR_FA,select=c(G1_1p, G2_1p, G3_1p, G4_1p, G5_1p, G6_1p)))\n",
    "rowVars(MSUR_FAs) -> variances\n",
    "rowMeans(MSUR_FAs) -> means\n",
    "variances*(1-means)-> Fst_locus -> MSUR_FA$Fst_locus\n",
    "MSUR_FA %>% summarise(Fst_avg_MSUR_all=mean(Fst_locus)) # 0.00223\n",
    "\n",
    "MSUR_FAs_neutres <- as.matrix(subset(MSUR_FA_neutres,select=c(G1_1p, G2_1p, G3_1p, G4_1p, G5_1p, G6_1p)))\n",
    "rowVars(MSUR_FAs_neutres) -> variances\n",
    "rowMeans(MSUR_FAs_neutres) -> means\n",
    "variances*(1-means)-> Fst_locus -> MSUR_FA_neutres$Fst_locus\n",
    "MSUR_FA_neutres %>% summarise(Fst_avg_MSUR_neutres=mean(Fst_locus)) # 0.00175"
   ]
  }
 ],
 "metadata": {
  "kernelspec": {
   "display_name": "Bash",
   "language": "bash",
   "name": "bash"
  },
  "language_info": {
   "codemirror_mode": "shell",
   "file_extension": ".sh",
   "mimetype": "text/x-sh",
   "name": "bash"
  }
 },
 "nbformat": 4,
 "nbformat_minor": 2
}
